{
  "nbformat": 4,
  "nbformat_minor": 0,
  "metadata": {
    "colab": {
      "name": "MPC_HAR_ML_Models_UCI.ipynb",
      "provenance": []
    },
    "kernelspec": {
      "name": "python3",
      "display_name": "Python 3"
    },
    "language_info": {
      "name": "python"
    }
  },
  "cells": [
    {
      "cell_type": "code",
      "execution_count": null,
      "metadata": {
        "id": "eRwCd-84YkFg"
      },
      "outputs": [],
      "source": [
        "import numpy as np\n",
        "import pandas as pd\n",
        "import matplotlib.pyplot as plt"
      ]
    },
    {
      "cell_type": "code",
      "source": [
        "!unzip \"UCI HAR Dataset.zip\""
      ],
      "metadata": {
        "id": "M0lN5QDea0yU"
      },
      "execution_count": null,
      "outputs": []
    },
    {
      "cell_type": "markdown",
      "source": [
        "# PRE-PROCESSING"
      ],
      "metadata": {
        "id": "wr949X39ANyD"
      }
    },
    {
      "cell_type": "code",
      "source": [
        "df_train = pd.read_csv(\"UCI HAR Dataset/train/X_train.txt\", delim_whitespace = True,names=list(range(0,561)))\n",
        "\n",
        "df_train['Subject'] = pd.read_csv(\"UCI HAR Dataset/train/subject_train.txt\", header = None, squeeze = True)\n",
        "\n",
        "df_train[\"activity\"] = pd.read_csv(\"UCI HAR Dataset/train/y_train.txt\", header = None, squeeze = True)"
      ],
      "metadata": {
        "id": "DxyaVejD0pVQ"
      },
      "execution_count": null,
      "outputs": []
    },
    {
      "cell_type": "code",
      "source": [
        "df_test= pd.read_csv(\"UCI HAR Dataset/test/X_test.txt\", delim_whitespace = True,names=list(range(0,561)))\n",
        "\n",
        "df_test['Subject'] = pd.read_csv(\"UCI HAR Dataset/test/subject_test.txt\", header = None, squeeze = True)\n",
        "\n",
        "df_test[\"activity\"] = pd.read_csv(\"UCI HAR Dataset/test/y_test.txt\", header = None, squeeze = True)"
      ],
      "metadata": {
        "id": "p7ld_owA084y"
      },
      "execution_count": null,
      "outputs": []
    },
    {
      "cell_type": "code",
      "source": [
        "df_train.to_csv('training.csv',index_label=False)\n",
        "df_test.to_csv('testing.csv',index_label=False)"
      ],
      "metadata": {
        "id": "Xfb8T4Km0p7_"
      },
      "execution_count": null,
      "outputs": []
    },
    {
      "cell_type": "code",
      "source": [
        "X_train=df_train.iloc[:,:-1]\n",
        "y_train=df_train.iloc[:,-1]"
      ],
      "metadata": {
        "id": "n0didCjQ1IBu"
      },
      "execution_count": null,
      "outputs": []
    },
    {
      "cell_type": "code",
      "source": [
        "X_test=df_test.iloc[:,:-1]\n",
        "y_test=df_test.iloc[:,-1]"
      ],
      "metadata": {
        "id": "PhFSgWG01OKt"
      },
      "execution_count": null,
      "outputs": []
    },
    {
      "cell_type": "code",
      "source": [
        "sensors=['body_acc_x_train','body_acc_y_train','body_acc_z_train','body_gyro_x_train','body_gyro_y_train','body_gyro_z_train','total_acc_x_train','total_acc_y_train','total_acc_z_train']"
      ],
      "metadata": {
        "id": "0DVFrjB9Y-QZ"
      },
      "execution_count": null,
      "outputs": []
    },
    {
      "cell_type": "code",
      "source": [
        "training_samples=[]\n",
        "testing_samples=[]"
      ],
      "metadata": {
        "id": "4_hewVDpAcFc"
      },
      "execution_count": null,
      "outputs": []
    },
    {
      "cell_type": "code",
      "source": [
        "for i in sensors:\n",
        "  training_samples.append(np.array(pd.read_csv(\"UCI HAR Dataset/train/Inertial Signals/\"+i+\".txt\",delim_whitespace=True,header=None)))"
      ],
      "metadata": {
        "id": "YJlJjt7PZCuB"
      },
      "execution_count": null,
      "outputs": []
    },
    {
      "cell_type": "code",
      "source": [
        "sensors=['body_acc_x_test','body_acc_y_test','body_acc_z_test','body_gyro_x_test','body_gyro_y_test','body_gyro_z_test','total_acc_x_test','total_acc_y_test','total_acc_z_test']"
      ],
      "metadata": {
        "id": "XytbRKtYB0He"
      },
      "execution_count": null,
      "outputs": []
    },
    {
      "cell_type": "code",
      "source": [
        "for i in sensors:\n",
        "  testing_samples.append(np.array(pd.read_csv(\"UCI HAR Dataset/test/Inertial Signals/\"+i+\".txt\",delim_whitespace=True,header=None)))"
      ],
      "metadata": {
        "id": "z87lgvNhBHZK"
      },
      "execution_count": null,
      "outputs": []
    },
    {
      "cell_type": "code",
      "source": [
        "training_samples=np.transpose(training_samples,(1,2,0))"
      ],
      "metadata": {
        "id": "0Naa1KUVZQTt"
      },
      "execution_count": null,
      "outputs": []
    },
    {
      "cell_type": "code",
      "source": [
        "target_train=pd.read_csv(\"UCI HAR Dataset/train/y_train.txt\",header=None)\n",
        "target_train -= 1"
      ],
      "metadata": {
        "id": "m9ERAFPdZS_1"
      },
      "execution_count": null,
      "outputs": []
    },
    {
      "cell_type": "code",
      "source": [
        "target_train=np.array(target_train)"
      ],
      "metadata": {
        "id": "wHgvDdWsZby1"
      },
      "execution_count": null,
      "outputs": []
    },
    {
      "cell_type": "code",
      "source": [
        "testing_samples=np.transpose(testing_samples,(1,2,0))"
      ],
      "metadata": {
        "id": "-ZIhafixZ1Ni"
      },
      "execution_count": null,
      "outputs": []
    },
    {
      "cell_type": "code",
      "source": [
        "target_test=pd.read_csv(\"UCI HAR Dataset/test/y_test.txt\",header=None)"
      ],
      "metadata": {
        "id": "HU8wiBbgZ3aU"
      },
      "execution_count": null,
      "outputs": []
    },
    {
      "cell_type": "code",
      "source": [
        "target_test -= 1"
      ],
      "metadata": {
        "id": "SWqoYi-yDinO"
      },
      "execution_count": null,
      "outputs": []
    },
    {
      "cell_type": "code",
      "source": [
        "target_test=np.array(target_test)"
      ],
      "metadata": {
        "id": "mbZXqEsAZ8IY"
      },
      "execution_count": null,
      "outputs": []
    },
    {
      "cell_type": "code",
      "source": [
        "from keras.utils.np_utils import to_categorical\n",
        "categorical_training=to_categorical(target_train)\n",
        "categorical_testing=to_categorical(target_test)"
      ],
      "metadata": {
        "id": "BBvmpY7TZ99n"
      },
      "execution_count": null,
      "outputs": []
    },
    {
      "cell_type": "code",
      "source": [
        "from keras.models import Sequential\n",
        "from keras.layers import LSTM,Dense,Dropout\n",
        "model=Sequential()\n",
        "model.add(LSTM(128,return_sequences=True,input_shape=(128,9)))\n",
        "model.add(Dropout(0.2))\n",
        "model.add(LSTM(64))\n",
        "model.add(Dropout(0.2))\n",
        "model.add(Dense(6,activation='softmax'))"
      ],
      "metadata": {
        "id": "AG1y_b3qaG3R"
      },
      "execution_count": null,
      "outputs": []
    },
    {
      "cell_type": "code",
      "source": [
        "model.compile(loss='categorical_crossentropy',metrics=['accuracy'])"
      ],
      "metadata": {
        "id": "flkErQPvaLaG"
      },
      "execution_count": null,
      "outputs": []
    },
    {
      "cell_type": "code",
      "source": [
        "model.fit(training_samples,categorical_training,epochs=8,validation_split=0.05)"
      ],
      "metadata": {
        "colab": {
          "base_uri": "https://localhost:8080/"
        },
        "id": "47n1m3llaOam",
        "outputId": "d7741c34-1f7b-4fae-e479-87cf07165bb7"
      },
      "execution_count": null,
      "outputs": [
        {
          "output_type": "stream",
          "name": "stdout",
          "text": [
            "Epoch 1/8\n",
            "219/219 [==============================] - 46s 207ms/step - loss: 0.1141 - accuracy: 0.9517 - val_loss: 0.0920 - val_accuracy: 0.9239\n",
            "Epoch 2/8\n",
            "219/219 [==============================] - 45s 205ms/step - loss: 0.1184 - accuracy: 0.9513 - val_loss: 0.1027 - val_accuracy: 0.9212\n",
            "Epoch 3/8\n",
            "219/219 [==============================] - 45s 204ms/step - loss: 0.1172 - accuracy: 0.9558 - val_loss: 0.1338 - val_accuracy: 0.9158\n",
            "Epoch 4/8\n",
            "219/219 [==============================] - 45s 205ms/step - loss: 0.1047 - accuracy: 0.9543 - val_loss: 0.1105 - val_accuracy: 0.9212\n",
            "Epoch 5/8\n",
            "219/219 [==============================] - 45s 204ms/step - loss: 0.1262 - accuracy: 0.9489 - val_loss: 0.2106 - val_accuracy: 0.9158\n",
            "Epoch 6/8\n",
            "219/219 [==============================] - 45s 204ms/step - loss: 0.1184 - accuracy: 0.9539 - val_loss: 0.1946 - val_accuracy: 0.8967\n",
            "Epoch 7/8\n",
            "219/219 [==============================] - 45s 205ms/step - loss: 0.1039 - accuracy: 0.9563 - val_loss: 0.0919 - val_accuracy: 0.9565\n",
            "Epoch 8/8\n",
            "219/219 [==============================] - 45s 206ms/step - loss: 0.1147 - accuracy: 0.9549 - val_loss: 0.1395 - val_accuracy: 0.9212\n"
          ]
        },
        {
          "output_type": "execute_result",
          "data": {
            "text/plain": [
              "<keras.callbacks.History at 0x7f159391a390>"
            ]
          },
          "metadata": {},
          "execution_count": 118
        }
      ]
    },
    {
      "cell_type": "code",
      "source": [
        "lstm_predicted=model.predict(testing_samples)"
      ],
      "metadata": {
        "id": "9QbuWWeLaQgb"
      },
      "execution_count": null,
      "outputs": []
    },
    {
      "cell_type": "code",
      "source": [
        "final_prediction=np.argmax(lstm_predicted,axis=1)"
      ],
      "metadata": {
        "id": "e2mdHPjYIUck"
      },
      "execution_count": null,
      "outputs": []
    },
    {
      "cell_type": "code",
      "source": [
        "import sklearn.metrics as acc\n",
        "acc.accuracy_score(target_test,final_prediction)"
      ],
      "metadata": {
        "colab": {
          "base_uri": "https://localhost:8080/"
        },
        "id": "NXCacw2Oaoj0",
        "outputId": "1a33115d-6811-400e-c967-9165dc3b4408"
      },
      "execution_count": null,
      "outputs": [
        {
          "output_type": "execute_result",
          "data": {
            "text/plain": [
              "0.9280624363759755"
            ]
          },
          "metadata": {},
          "execution_count": 121
        }
      ]
    },
    {
      "cell_type": "markdown",
      "source": [
        "# RANDOM FOREST & DECISION TREE"
      ],
      "metadata": {
        "id": "hL-y-JlQdOiK"
      }
    },
    {
      "cell_type": "code",
      "source": [
        "from sklearn.ensemble import RandomForestClassifier\n",
        "random_model=RandomForestClassifier(criterion='gini',min_samples_split=2,n_estimators=100)\n",
        "random_model.fit(X_train,y_train)"
      ],
      "metadata": {
        "colab": {
          "base_uri": "https://localhost:8080/"
        },
        "id": "B8Urqd1gd0Wt",
        "outputId": "f1066e5b-682f-4c85-f6c9-55e73b466b96"
      },
      "execution_count": null,
      "outputs": [
        {
          "output_type": "stream",
          "name": "stderr",
          "text": [
            "/usr/local/lib/python3.7/dist-packages/sklearn/utils/validation.py:1692: FutureWarning: Feature names only support names that are all strings. Got feature names with dtypes: ['int', 'str']. An error will be raised in 1.2.\n",
            "  FutureWarning,\n"
          ]
        },
        {
          "output_type": "execute_result",
          "data": {
            "text/plain": [
              "RandomForestClassifier()"
            ]
          },
          "metadata": {},
          "execution_count": 20
        }
      ]
    },
    {
      "cell_type": "code",
      "source": [
        "random_model_predicted=random_model.predict(X_test)"
      ],
      "metadata": {
        "colab": {
          "base_uri": "https://localhost:8080/"
        },
        "id": "yhX4j57s4AFv",
        "outputId": "12029d57-b5db-44b6-a4cc-926afa53f7be"
      },
      "execution_count": null,
      "outputs": [
        {
          "output_type": "stream",
          "name": "stderr",
          "text": [
            "/usr/local/lib/python3.7/dist-packages/sklearn/utils/validation.py:1692: FutureWarning: Feature names only support names that are all strings. Got feature names with dtypes: ['int', 'str']. An error will be raised in 1.2.\n",
            "  FutureWarning,\n"
          ]
        }
      ]
    },
    {
      "cell_type": "code",
      "source": [
        "import sklearn.metrics as acc\n",
        "acc.accuracy_score(y_test,random_model_predicted)"
      ],
      "metadata": {
        "colab": {
          "base_uri": "https://localhost:8080/"
        },
        "id": "_5NGvoqm4GV4",
        "outputId": "d6f6a1c0-bdb0-463a-e652-3d99b03eeaf0"
      },
      "execution_count": null,
      "outputs": [
        {
          "output_type": "execute_result",
          "data": {
            "text/plain": [
              "0.9300984051577876"
            ]
          },
          "metadata": {},
          "execution_count": 22
        }
      ]
    },
    {
      "cell_type": "code",
      "source": [
        "from sklearn.tree import DecisionTreeClassifier\n",
        "decision_model=DecisionTreeClassifier(criterion='gini',splitter='best',min_samples_split=4)\n",
        "decision_model.fit(X_train,y_train)"
      ],
      "metadata": {
        "colab": {
          "base_uri": "https://localhost:8080/"
        },
        "id": "YAl2M2k-d4Ct",
        "outputId": "2941be7f-90c7-44cb-ca8b-dab1c64e6f17"
      },
      "execution_count": null,
      "outputs": [
        {
          "output_type": "stream",
          "name": "stderr",
          "text": [
            "/usr/local/lib/python3.7/dist-packages/sklearn/utils/validation.py:1692: FutureWarning: Feature names only support names that are all strings. Got feature names with dtypes: ['int', 'str']. An error will be raised in 1.2.\n",
            "  FutureWarning,\n"
          ]
        },
        {
          "output_type": "execute_result",
          "data": {
            "text/plain": [
              "DecisionTreeClassifier(min_samples_split=4)"
            ]
          },
          "metadata": {},
          "execution_count": 23
        }
      ]
    },
    {
      "cell_type": "code",
      "source": [
        "decision_model_predicted=decision_model.predict(X_test)"
      ],
      "metadata": {
        "colab": {
          "base_uri": "https://localhost:8080/"
        },
        "id": "bz5yvTf9d6Ix",
        "outputId": "bb1d10bb-9c05-465e-d800-9c3542e5589c"
      },
      "execution_count": null,
      "outputs": [
        {
          "output_type": "stream",
          "name": "stderr",
          "text": [
            "/usr/local/lib/python3.7/dist-packages/sklearn/utils/validation.py:1692: FutureWarning: Feature names only support names that are all strings. Got feature names with dtypes: ['int', 'str']. An error will be raised in 1.2.\n",
            "  FutureWarning,\n"
          ]
        }
      ]
    },
    {
      "cell_type": "code",
      "source": [
        "acc.accuracy_score(y_test,decision_model_predicted)"
      ],
      "metadata": {
        "colab": {
          "base_uri": "https://localhost:8080/"
        },
        "id": "vp6weCqO4w78",
        "outputId": "56152b6e-4c2c-4731-a9d4-5da61308149b"
      },
      "execution_count": null,
      "outputs": [
        {
          "output_type": "execute_result",
          "data": {
            "text/plain": [
              "0.8625721072276892"
            ]
          },
          "metadata": {},
          "execution_count": 25
        }
      ]
    },
    {
      "cell_type": "markdown",
      "source": [
        "# KNN"
      ],
      "metadata": {
        "id": "dsD6cRdveXjE"
      }
    },
    {
      "cell_type": "code",
      "source": [
        "from sklearn.neighbors import KNeighborsClassifier as knn\n",
        "from sklearn.model_selection import GridSearchCV"
      ],
      "metadata": {
        "id": "kmx9CyhgeJDd"
      },
      "execution_count": null,
      "outputs": []
    },
    {
      "cell_type": "code",
      "source": [
        "knn_model = knn(n_jobs=-1)\n",
        "distance_criteria = ['euclidean','manhattan'] \n",
        "clusters = np.arange(1,16)\n",
        "parameters  = dict(metric=distance_criteria, n_neighbors=clusters)\n",
        "final_knn = GridSearchCV(knn_model, parameters, cv=10, scoring='accuracy', refit=True)"
      ],
      "metadata": {
        "id": "-8PtNyBleiok"
      },
      "execution_count": null,
      "outputs": []
    },
    {
      "cell_type": "code",
      "source": [
        "import warnings\n",
        "warnings.filterwarnings(\"ignore\", category=DeprecationWarning)"
      ],
      "metadata": {
        "id": "LogrlgxJ921x"
      },
      "execution_count": null,
      "outputs": []
    },
    {
      "cell_type": "code",
      "source": [
        "final_knn.fit(X_train,y_train)"
      ],
      "metadata": {
        "id": "MEbruQm3elF7"
      },
      "execution_count": null,
      "outputs": []
    },
    {
      "cell_type": "code",
      "source": [
        "print(\"The Best Hyper Parameters: \",final_knn.best_params_)"
      ],
      "metadata": {
        "colab": {
          "base_uri": "https://localhost:8080/"
        },
        "id": "9bJG9Xbpen9Z",
        "outputId": "fa492063-a026-4ff4-8bac-50067b70cfdb"
      },
      "execution_count": null,
      "outputs": [
        {
          "output_type": "stream",
          "name": "stdout",
          "text": [
            "The Best Hyper Parameters:  {'metric': 'manhattan', 'n_neighbors': 10}\n"
          ]
        }
      ]
    },
    {
      "cell_type": "code",
      "source": [
        "knn_predicted = final_knn.predict(X_test)"
      ],
      "metadata": {
        "colab": {
          "base_uri": "https://localhost:8080/"
        },
        "id": "Xdcu05mZ6Vlb",
        "outputId": "732dea1d-ae2a-4cfd-df02-b56714b2b761"
      },
      "execution_count": null,
      "outputs": [
        {
          "output_type": "stream",
          "name": "stderr",
          "text": [
            "/usr/local/lib/python3.7/dist-packages/sklearn/utils/validation.py:1692: FutureWarning: Feature names only support names that are all strings. Got feature names with dtypes: ['int', 'str']. An error will be raised in 1.2.\n",
            "  FutureWarning,\n"
          ]
        }
      ]
    },
    {
      "cell_type": "code",
      "source": [
        "acc.accuracy_score(y_test,knn_predicted)"
      ],
      "metadata": {
        "colab": {
          "base_uri": "https://localhost:8080/"
        },
        "id": "S4Q0PluWexgR",
        "outputId": "f14fce14-8b2c-43d5-bdf4-412c5647b948"
      },
      "execution_count": null,
      "outputs": [
        {
          "output_type": "execute_result",
          "data": {
            "text/plain": [
              "0.9107567017305734"
            ]
          },
          "metadata": {},
          "execution_count": 45
        }
      ]
    },
    {
      "cell_type": "markdown",
      "source": [
        "# SVC"
      ],
      "metadata": {
        "id": "4pttxM8KiCam"
      }
    },
    {
      "cell_type": "code",
      "source": [
        "from sklearn.svm import SVC  \n",
        "svc_model = SVC(kernel='linear', random_state=0)  \n",
        "svc_model.fit(X_train, y_train)  "
      ],
      "metadata": {
        "colab": {
          "base_uri": "https://localhost:8080/"
        },
        "id": "YhYG9NuIiU0k",
        "outputId": "00bd463b-23ee-41d6-d3f3-af4ccec9387d"
      },
      "execution_count": null,
      "outputs": [
        {
          "output_type": "stream",
          "name": "stderr",
          "text": [
            "/usr/local/lib/python3.7/dist-packages/sklearn/utils/validation.py:1692: FutureWarning: Feature names only support names that are all strings. Got feature names with dtypes: ['int', 'str']. An error will be raised in 1.2.\n",
            "  FutureWarning,\n"
          ]
        },
        {
          "output_type": "execute_result",
          "data": {
            "text/plain": [
              "SVC(kernel='linear', random_state=0)"
            ]
          },
          "metadata": {},
          "execution_count": 32
        }
      ]
    },
    {
      "cell_type": "code",
      "source": [
        "svc_predicted= svc_model.predict(X_test) "
      ],
      "metadata": {
        "id": "pIWbas54iX8N",
        "colab": {
          "base_uri": "https://localhost:8080/"
        },
        "outputId": "a2eb793c-2713-4e43-86eb-cf5b12303a72"
      },
      "execution_count": null,
      "outputs": [
        {
          "output_type": "stream",
          "name": "stderr",
          "text": [
            "/usr/local/lib/python3.7/dist-packages/sklearn/utils/validation.py:1692: FutureWarning: Feature names only support names that are all strings. Got feature names with dtypes: ['int', 'str']. An error will be raised in 1.2.\n",
            "  FutureWarning,\n"
          ]
        }
      ]
    },
    {
      "cell_type": "code",
      "source": [
        "acc.accuracy_score(y_test,svc_predicted)"
      ],
      "metadata": {
        "colab": {
          "base_uri": "https://localhost:8080/"
        },
        "id": "_w2UUeSLiftp",
        "outputId": "b4d5e58c-39c1-4cbd-d2cd-d4b61d78d83c"
      },
      "execution_count": null,
      "outputs": [
        {
          "output_type": "execute_result",
          "data": {
            "text/plain": [
              "0.9633525619273838"
            ]
          },
          "metadata": {},
          "execution_count": 34
        }
      ]
    },
    {
      "cell_type": "markdown",
      "source": [
        "# LOGISTIC REGRESSION"
      ],
      "metadata": {
        "id": "Fkjl2KoDikq5"
      }
    },
    {
      "cell_type": "code",
      "source": [
        "from sklearn.linear_model import LogisticRegression\n",
        "logistic_model = LogisticRegression(max_iter=5000)\n",
        "logistic_model.fit(X_train, y_train)"
      ],
      "metadata": {
        "colab": {
          "base_uri": "https://localhost:8080/"
        },
        "id": "6fxwXWwtkdEo",
        "outputId": "078dc76f-53ba-4e9f-da0d-5bc0f692e7b6"
      },
      "execution_count": null,
      "outputs": [
        {
          "output_type": "stream",
          "name": "stderr",
          "text": [
            "/usr/local/lib/python3.7/dist-packages/sklearn/utils/validation.py:1692: FutureWarning: Feature names only support names that are all strings. Got feature names with dtypes: ['int', 'str']. An error will be raised in 1.2.\n",
            "  FutureWarning,\n"
          ]
        },
        {
          "output_type": "execute_result",
          "data": {
            "text/plain": [
              "LogisticRegression(max_iter=5000)"
            ]
          },
          "metadata": {},
          "execution_count": 29
        }
      ]
    },
    {
      "cell_type": "code",
      "source": [
        "logistic_predicted=logistic_model.predict(X_test)"
      ],
      "metadata": {
        "colab": {
          "base_uri": "https://localhost:8080/"
        },
        "id": "DkOjU74Uk6Oo",
        "outputId": "e88d141d-9690-4803-e02d-dd3cc6bae050"
      },
      "execution_count": null,
      "outputs": [
        {
          "output_type": "stream",
          "name": "stderr",
          "text": [
            "/usr/local/lib/python3.7/dist-packages/sklearn/utils/validation.py:1692: FutureWarning: Feature names only support names that are all strings. Got feature names with dtypes: ['int', 'str']. An error will be raised in 1.2.\n",
            "  FutureWarning,\n"
          ]
        }
      ]
    },
    {
      "cell_type": "code",
      "source": [
        "acc.accuracy_score(y_test,logistic_predicted)"
      ],
      "metadata": {
        "colab": {
          "base_uri": "https://localhost:8080/"
        },
        "id": "MNcryUJD7GoL",
        "outputId": "c10c2a6e-a070-4887-dbd6-22ce3998c452"
      },
      "execution_count": null,
      "outputs": [
        {
          "output_type": "execute_result",
          "data": {
            "text/plain": [
              "0.9596199524940617"
            ]
          },
          "metadata": {},
          "execution_count": 31
        }
      ]
    },
    {
      "cell_type": "markdown",
      "source": [
        "# SVM"
      ],
      "metadata": {
        "id": "PhAmoy67ljpw"
      }
    },
    {
      "cell_type": "code",
      "source": [
        "from sklearn import svm\n",
        "svm_classifier = svm.SVC(kernel='rbf')\n",
        "svm_classifier.fit(X_train, y_train)"
      ],
      "metadata": {
        "colab": {
          "base_uri": "https://localhost:8080/"
        },
        "id": "Hbs-CaMPljEI",
        "outputId": "f5e27231-a7a4-4ae0-f65f-777032f52633"
      },
      "execution_count": null,
      "outputs": [
        {
          "output_type": "stream",
          "name": "stderr",
          "text": [
            "/usr/local/lib/python3.7/dist-packages/sklearn/utils/validation.py:1692: FutureWarning: Feature names only support names that are all strings. Got feature names with dtypes: ['int', 'str']. An error will be raised in 1.2.\n",
            "  FutureWarning,\n"
          ]
        },
        {
          "output_type": "execute_result",
          "data": {
            "text/plain": [
              "SVC()"
            ]
          },
          "metadata": {},
          "execution_count": 35
        }
      ]
    },
    {
      "cell_type": "code",
      "source": [
        "svm_predicted=svm_classifier.predict(X_test)"
      ],
      "metadata": {
        "colab": {
          "base_uri": "https://localhost:8080/"
        },
        "id": "JMm0iQVtl17g",
        "outputId": "58fd67d4-7033-406b-c95e-9591c49376b4"
      },
      "execution_count": null,
      "outputs": [
        {
          "output_type": "stream",
          "name": "stderr",
          "text": [
            "/usr/local/lib/python3.7/dist-packages/sklearn/utils/validation.py:1692: FutureWarning: Feature names only support names that are all strings. Got feature names with dtypes: ['int', 'str']. An error will be raised in 1.2.\n",
            "  FutureWarning,\n"
          ]
        }
      ]
    },
    {
      "cell_type": "code",
      "source": [
        "acc.accuracy_score(y_test,svm_predicted)"
      ],
      "metadata": {
        "colab": {
          "base_uri": "https://localhost:8080/"
        },
        "id": "jDcn7sge8qYt",
        "outputId": "bcf8cc59-2325-407a-9754-12afc39b4b0c"
      },
      "execution_count": null,
      "outputs": [
        {
          "output_type": "execute_result",
          "data": {
            "text/plain": [
              "0.9307770614183916"
            ]
          },
          "metadata": {},
          "execution_count": 37
        }
      ]
    },
    {
      "cell_type": "markdown",
      "source": [
        "# XGBOOST"
      ],
      "metadata": {
        "id": "UeH6Fn4dmjHq"
      }
    },
    {
      "cell_type": "code",
      "source": [
        "import xgboost as xgb\n",
        "from xgboost.sklearn import XGBClassifier\n",
        "xgboost_model=XGBClassifier()\n",
        "xgboost_model.fit(X_train,y_train)"
      ],
      "metadata": {
        "id": "v8HICSaumk3p",
        "colab": {
          "base_uri": "https://localhost:8080/"
        },
        "outputId": "d8523b7e-e9bd-41b3-ec24-e14d85fe6287"
      },
      "execution_count": null,
      "outputs": [
        {
          "output_type": "execute_result",
          "data": {
            "text/plain": [
              "XGBClassifier(objective='multi:softprob')"
            ]
          },
          "metadata": {},
          "execution_count": 38
        }
      ]
    },
    {
      "cell_type": "code",
      "source": [
        "xgboost_predicted=xgboost_model.predict(X_test)"
      ],
      "metadata": {
        "id": "xj_HWFTU80d-"
      },
      "execution_count": null,
      "outputs": []
    },
    {
      "cell_type": "code",
      "source": [
        "acc.accuracy_score(y_test,xgboost_predicted)\n"
      ],
      "metadata": {
        "colab": {
          "base_uri": "https://localhost:8080/"
        },
        "id": "S15NukconAMc",
        "outputId": "8bec99e5-80bf-4d8a-e595-2f2af3d8c4ce"
      },
      "execution_count": null,
      "outputs": [
        {
          "output_type": "execute_result",
          "data": {
            "text/plain": [
              "0.9389209365456397"
            ]
          },
          "metadata": {},
          "execution_count": 40
        }
      ]
    }
  ]
}